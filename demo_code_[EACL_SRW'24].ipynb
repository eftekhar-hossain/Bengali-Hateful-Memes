{
  "cells": [
    {
      "cell_type": "markdown",
      "metadata": {
        "id": "view-in-github",
        "colab_type": "text"
      },
      "source": [
        "<a href=\"https://colab.research.google.com/github/eftekhar-hossain/Bengali-Hateful-Memes/blob/main/demo_code_%5BEACL_SRW'24%5D.ipynb\" target=\"_parent\"><img src=\"https://colab.research.google.com/assets/colab-badge.svg\" alt=\"Open In Colab\"/></a>"
      ]
    },
    {
      "cell_type": "markdown",
      "metadata": {
        "id": "qGK7zQ0AqM-i"
      },
      "source": [
        " # Align before Attend: Aligning Visual and Textual Features for Multimodal Hateful Content Detection (EACL-SRW'24)\n",
        "\n",
        " <figure>\n",
        "<center>\n",
        "<img src='https://github.com/eftekhar-hossain/Bengali-Hateful-Memes/blob/66740224548038d06dd538a7002d6e96f5f748bb/Images/align-attend.png?raw=true'/>\n",
        "<figcaption>The proposed MCA-SCF method in Align Before Attend Paper.</figcaption>\n",
        "</figure>\n",
        "\n"
      ]
    },
    {
      "cell_type": "markdown",
      "metadata": {
        "id": "ods1PQP5Tldi"
      },
      "source": [
        "##Clone the Repository"
      ]
    },
    {
      "cell_type": "code",
      "source": [
        "# clone the github repo\n",
        "!git clone https://github.com/eftekhar-hossain/Bengali-Hateful-Memes.git"
      ],
      "metadata": {
        "id": "FIbeXIy83VkI"
      },
      "execution_count": null,
      "outputs": []
    },
    {
      "cell_type": "code",
      "source": [
        "# set the folder\n",
        "repo = 'Bengali-Hateful-Memes'\n",
        "%cd {repo}\n"
      ],
      "metadata": {
        "id": "Z8BoyMzR3ga0"
      },
      "execution_count": null,
      "outputs": []
    },
    {
      "cell_type": "code",
      "source": [
        "# enter into Align-Before-Attend@EACL folder\n",
        "%cd Align-Before-Attend@EACL"
      ],
      "metadata": {
        "colab": {
          "base_uri": "https://localhost:8080/"
        },
        "id": "REmb1nNR4R1-",
        "outputId": "38a59734-c61b-462c-fbcb-b84167fa91b5"
      },
      "execution_count": null,
      "outputs": [
        {
          "output_type": "stream",
          "name": "stdout",
          "text": [
            "/content/Bengali-Hateful-Memes/Align-Before-Attend@EACL\n"
          ]
        }
      ]
    },
    {
      "cell_type": "code",
      "source": [
        "#install the requirements\n",
        "\n",
        "!pip install -r requirements.txt"
      ],
      "metadata": {
        "id": "7GOWoKTl_GTs"
      },
      "execution_count": null,
      "outputs": []
    },
    {
      "cell_type": "code",
      "source": [
        "# Dowonload the zip file of the MUTE dataset\n",
        "\n",
        "import gdown\n",
        "\n",
        "YOUR_FILE_ID = \"1ozTFUM7q27g7uckhPWUiQFwhROCiEUAc\"   #obtain from drive link\n",
        "\n",
        "# Replace 'YOUR_FILE_ID' with the actual file ID from the Google Drive link.\n",
        "gdown.download(f\"https://drive.google.com/uc?export=download&id={YOUR_FILE_ID}\", \"file.zip\", quiet=False)"
      ],
      "metadata": {
        "id": "ckKMLWfqE6_h"
      },
      "execution_count": null,
      "outputs": []
    },
    {
      "cell_type": "code",
      "source": [
        "# Extract the zip file\n",
        "\n",
        "import zipfile\n",
        "zip_ref = zipfile.ZipFile(\"file.zip\", 'r')\n",
        "zip_ref.extractall()\n",
        "zip_ref.close()"
      ],
      "metadata": {
        "id": "ArVrAILH43VE"
      },
      "execution_count": null,
      "outputs": []
    },
    {
      "cell_type": "code",
      "source": [
        "# delete the zip file\n",
        "!rm -r file.zip"
      ],
      "metadata": {
        "id": "L0vC6UldFJgi"
      },
      "execution_count": null,
      "outputs": []
    },
    {
      "cell_type": "code",
      "source": [
        "# make a directory to store the pickle files\n",
        "import os\n",
        "os.mkdir(\"Datasets/\")"
      ],
      "metadata": {
        "id": "WbrUy0RymsuL"
      },
      "execution_count": null,
      "outputs": []
    },
    {
      "cell_type": "code",
      "source": [
        "# run the cell to exclude warnings\n",
        "os.environ['TF_CPP_MIN_LOG_LEVEL'] = '3'"
      ],
      "metadata": {
        "id": "zdsf936PT8Ep"
      },
      "execution_count": null,
      "outputs": []
    },
    {
      "cell_type": "markdown",
      "source": [
        "## Make Pickle files"
      ],
      "metadata": {
        "id": "OQ3CQQg3N3B0"
      }
    },
    {
      "cell_type": "code",
      "source": [
        "# make pickle files for images\n",
        "\n",
        "!python Code/main.py -d-img \\\n",
        "-img_dir 'MUTE/Memes/' \\\n",
        "-train 'MUTE/train_hate' \\\n",
        "-valid 'MUTE/valid_hate' \\\n",
        "-test 'MUTE/test_hate' \\\n",
        "-img_column_name 'image_name'  \\\n",
        "-img_size 150 \\\n",
        "-dataset_name 'mute' \\\n",
        "-split_name ['train','valid','test']"
      ],
      "metadata": {
        "id": "RSFiceH6FIHF"
      },
      "execution_count": null,
      "outputs": []
    },
    {
      "cell_type": "code",
      "source": [
        "# make pickle files for texts\n",
        "\n",
        "!python Code/main.py -d-txt \\\n",
        "-train 'MUTE/train_hate' \\\n",
        "-valid 'MUTE/valid_hate' \\\n",
        "-test 'MUTE/test_hate' \\\n",
        "-txt_len 60 \\\n",
        "-txt_column_name 'Captions'  \\\n",
        "-dataset_name 'mute' \\\n",
        "-split_name ['train','valid','test']"
      ],
      "metadata": {
        "id": "orqpAo6skFbe"
      },
      "execution_count": null,
      "outputs": []
    },
    {
      "cell_type": "markdown",
      "metadata": {
        "id": "vNn_JAspg879"
      },
      "source": [
        "## Training Multimodal Models"
      ]
    },
    {
      "cell_type": "code",
      "source": [
        "# run and evaluate the MCA-SCF model\n",
        "\n",
        "!python Code/main.py -models \\\n",
        "-method_name 'mca-scf' \\\n",
        "-datasets ['MUTE/train_hate','MUTE/valid_hate','MUTE/test_hate'] \\\n",
        "-train_pkl ['train_image_mute','train_text_mute'] \\\n",
        "-valid_pkl ['valid_image_mute','valid_text_mute'] \\\n",
        "-test_pkl ['test_image_mute','test_text_mute'] \\\n",
        "-label_column 'Label'  \\\n",
        "-hparams \"[60, 150, 11993, 32, 2]\" \\   # [text length, image size, vocab size, embedding dimension, no. of classes]\n",
        "-md_hparams \"['mca-scf_mute', 32, 3]\" \\ # [model name (arbitrary), batch size, no. of epochs]"
      ],
      "metadata": {
        "id": "6fv4_neg1KPo"
      },
      "execution_count": null,
      "outputs": []
    },
    {
      "cell_type": "markdown",
      "source": [
        "###Variants\n",
        "\n",
        " <figure>\n",
        "<center>\n",
        "<img src='https://github.com/eftekhar-hossain/Bengali-Hateful-Memes/blob/main/Images/variants.png?raw=true'/>\n",
        "<figcaption>The variants of the proposed method in Align Before Attend Paper.</figcaption>\n",
        "</figure>"
      ],
      "metadata": {
        "id": "yy5CS2irTH9W"
      }
    },
    {
      "cell_type": "code",
      "source": [
        "# run and evaluate the MCF model\n",
        "\n",
        "!python Code/main.py -models \\\n",
        "-method_name 'mcf' \\\n",
        "-datasets ['MUTE/train_hate','MUTE/valid_hate','MUTE/test_hate'] \\\n",
        "-train_pkl ['train_image_mute','train_text_mute'] \\\n",
        "-valid_pkl ['valid_image_mute','valid_text_mute'] \\\n",
        "-test_pkl ['test_image_mute','test_text_mute'] \\\n",
        "-label_column 'Label'  \\\n",
        "-hparams \"[60, 150, 11993, 32, 2]\" \\  # [text length, image size, vocab size, embedding dimension, no. of classes]\n",
        "-md_hparams \"['mcf_mute', 32, 3]\" \\   # [model name (arbitrary), batch size, no. of epochs]"
      ],
      "metadata": {
        "id": "MJ8VcwLEhB00"
      },
      "execution_count": null,
      "outputs": []
    },
    {
      "cell_type": "code",
      "source": [
        "# run and evaluate the TGCF model\n",
        "\n",
        "!python Code/main.py -models \\\n",
        "-method_name 'tgcf' \\\n",
        "-datasets ['MUTE/train_hate','MUTE/valid_hate','MUTE/test_hate'] \\\n",
        "-train_pkl ['train_image_mute','train_text_mute'] \\\n",
        "-valid_pkl ['valid_image_mute','valid_text_mute'] \\\n",
        "-test_pkl ['test_image_mute','test_text_mute'] \\\n",
        "-label_column 'Label'  \\\n",
        "-hparams \"[60, 150, 11993, 32, 2]\" \\  # [text length, image size, vocab size, embedding dimension, no. of classes]\n",
        "-md_hparams \"['tgcf_mute', 32, 3]\" \\  # [model name (arbitrary), batch size, no. of epochs]"
      ],
      "metadata": {
        "id": "E93_rEeZlsRl"
      },
      "execution_count": null,
      "outputs": []
    },
    {
      "cell_type": "code",
      "source": [
        "# run and evaluate the VGCF model\n",
        "\n",
        "!python Code/main.py -models \\\n",
        "-method_name 'vgcf' \\\n",
        "-datasets ['MUTE/train_hate','MUTE/valid_hate','MUTE/test_hate'] \\\n",
        "-train_pkl ['train_image_mute','train_text_mute'] \\\n",
        "-valid_pkl ['valid_image_mute','valid_text_mute'] \\\n",
        "-test_pkl ['test_image_mute','test_text_mute'] \\\n",
        "-label_column 'Label'  \\\n",
        "-hparams \"[60, 150, 11993, 32, 2]\" \\  # [text length, image size, vocab size, embedding dimension, no. of classes]\n",
        "-md_hparams \"['vgcf_mute', 32, 3]\" \\  # [model name (arbitrary), batch size, no. of epochs]"
      ],
      "metadata": {
        "id": "PPv1uxKal-qm"
      },
      "execution_count": null,
      "outputs": []
    }
  ],
  "metadata": {
    "colab": {
      "provenance": [],
      "machine_shape": "hm",
      "gpuType": "T4",
      "toc_visible": true,
      "include_colab_link": true
    },
    "kernelspec": {
      "display_name": "Python 3",
      "name": "python3"
    },
    "language_info": {
      "name": "python"
    },
    "accelerator": "GPU"
  },
  "nbformat": 4,
  "nbformat_minor": 0
}